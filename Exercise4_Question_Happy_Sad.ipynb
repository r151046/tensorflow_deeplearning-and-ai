{
  "nbformat": 4,
  "nbformat_minor": 0,
  "metadata": {
    "colab": {
      "name": "Exercise4-Question.ipynb",
      "version": "0.3.2",
      "provenance": [],
      "include_colab_link": true
    },
    "kernelspec": {
      "name": "python3",
      "display_name": "Python 3"
    },
    "accelerator": "GPU"
  },
  "cells": [
    {
      "cell_type": "markdown",
      "metadata": {
        "id": "view-in-github",
        "colab_type": "text"
      },
      "source": [
        "<a href=\"https://colab.research.google.com/github/karim-aly/intro-to-tensorflow-for-ai-coursera/blob/master/Exercise4_Question_Happy_Sad.ipynb\" target=\"_parent\"><img src=\"https://colab.research.google.com/assets/colab-badge.svg\" alt=\"Open In Colab\"/></a>"
      ]
    },
    {
      "metadata": {
        "id": "UncprnB0ymAE",
        "colab_type": "text"
      },
      "cell_type": "markdown",
      "source": [
        "Below is code with a link to a happy or sad dataset which contains 80 images, 40 happy and 40 sad. \n",
        "Create a convolutional neural network that trains to 100% accuracy on these images,  which cancels training upon hitting training accuracy of >.999\n",
        "\n",
        "Hint -- it will work best with 3 convolutional layers."
      ]
    },
    {
      "metadata": {
        "id": "7Vti6p3PxmpS",
        "colab_type": "code",
        "outputId": "ba4ae59e-cc99-4849-da7b-4523fb2e0eec",
        "colab": {
          "base_uri": "https://localhost:8080/",
          "height": 204
        }
      },
      "cell_type": "code",
      "source": [
        "import tensorflow as tf\n",
        "import os\n",
        "import zipfile\n",
        "\n",
        "\n",
        "DESIRED_ACCURACY = 0.999\n",
        "\n",
        "!wget --no-check-certificate \\\n",
        "    \"https://storage.googleapis.com/laurencemoroney-blog.appspot.com/happy-or-sad.zip\" \\\n",
        "    -O \"/tmp/happy-or-sad.zip\"\n",
        "\n",
        "zip_ref = zipfile.ZipFile(\"/tmp/happy-or-sad.zip\", 'r')\n",
        "zip_ref.extractall(\"/tmp/h-or-s\")\n",
        "zip_ref.close()\n",
        "\n",
        "class myCallback(tf.keras.callbacks.Callback):\n",
        "  def on_epoch_end(self, epoch, logs={}):\n",
        "    if (logs.get('acc') > DESIRED_ACCURACY):\n",
        "      print('\\nDesired Accuracy is met, Stopping training...')\n",
        "      self.model.stop_training = True\n",
        "\n",
        "callbacks = myCallback()"
      ],
      "execution_count": 0,
      "outputs": [
        {
          "output_type": "stream",
          "text": [
            "--2019-04-09 14:13:44--  https://storage.googleapis.com/laurencemoroney-blog.appspot.com/happy-or-sad.zip\n",
            "Resolving storage.googleapis.com (storage.googleapis.com)... 74.125.141.128, 2607:f8b0:400c:c06::80\n",
            "Connecting to storage.googleapis.com (storage.googleapis.com)|74.125.141.128|:443... connected.\n",
            "HTTP request sent, awaiting response... 200 OK\n",
            "Length: 2670333 (2.5M) [application/zip]\n",
            "Saving to: ‘/tmp/happy-or-sad.zip’\n",
            "\n",
            "\r/tmp/happy-or-sad.z   0%[                    ]       0  --.-KB/s               \r/tmp/happy-or-sad.z 100%[===================>]   2.55M  --.-KB/s    in 0.02s   \n",
            "\n",
            "2019-04-09 14:13:44 (129 MB/s) - ‘/tmp/happy-or-sad.zip’ saved [2670333/2670333]\n",
            "\n"
          ],
          "name": "stdout"
        }
      ]
    },
    {
      "metadata": {
        "id": "6DLGbXXI1j_V",
        "colab_type": "code",
        "outputId": "73ee7956-18ab-40cc-df54-6eee44408d07",
        "colab": {
          "base_uri": "https://localhost:8080/",
          "height": 88
        }
      },
      "cell_type": "code",
      "source": [
        "# This Code Block should Define and Compile the Model\n",
        "model = tf.keras.models.Sequential([\n",
        "    tf.keras.layers.Conv2D(64, (3,3), activation='relu', input_shape=(150, 150, 3)),\n",
        "    tf.keras.layers.MaxPooling2D(2, 2),\n",
        "    tf.keras.layers.Conv2D(64, (3,3), activation='relu'),\n",
        "    tf.keras.layers.MaxPooling2D(2, 2),\n",
        "    tf.keras.layers.Conv2D(64, (3,3), activation='relu'),\n",
        "    tf.keras.layers.MaxPooling2D(2, 2),\n",
        "    tf.keras.layers.Flatten(),\n",
        "    tf.keras.layers.Dense(128, activation='relu'),\n",
        "    tf.keras.layers.Dense(1, activation='sigmoid')\n",
        "])\n",
        "\n",
        "from tensorflow.keras.optimizers import RMSprop\n",
        "\n",
        "model.compile(loss='binary_crossentropy', optimizer='adam', metrics=['acc'])"
      ],
      "execution_count": 0,
      "outputs": [
        {
          "output_type": "stream",
          "text": [
            "WARNING:tensorflow:From /usr/local/lib/python3.6/dist-packages/tensorflow/python/ops/resource_variable_ops.py:435: colocate_with (from tensorflow.python.framework.ops) is deprecated and will be removed in a future version.\n",
            "Instructions for updating:\n",
            "Colocations handled automatically by placer.\n"
          ],
          "name": "stdout"
        }
      ]
    },
    {
      "metadata": {
        "id": "4Ap9fUJE1vVu",
        "colab_type": "code",
        "outputId": "bb608da5-7c50-4dff-9c82-6bc2d94786ce",
        "colab": {
          "base_uri": "https://localhost:8080/",
          "height": 34
        }
      },
      "cell_type": "code",
      "source": [
        "# This code block should create an instance of an ImageDataGenerator called train_datagen \n",
        "# And a train_generator by calling train_datagen.flow_from_directory\n",
        "\n",
        "from tensorflow.keras.preprocessing.image import ImageDataGenerator\n",
        "\n",
        "train_datagen = ImageDataGenerator(rescale=1/255.0)\n",
        "\n",
        "train_generator = train_datagen.flow_from_directory(\n",
        "    '/tmp/h-or-s/', \n",
        "    target_size=(150,150), \n",
        "    batch_size=80, \n",
        "    class_mode='binary')\n",
        "\n",
        "# Expected output: 'Found 80 images belonging to 2 classes'"
      ],
      "execution_count": 0,
      "outputs": [
        {
          "output_type": "stream",
          "text": [
            "Found 80 images belonging to 2 classes.\n"
          ],
          "name": "stdout"
        }
      ]
    },
    {
      "metadata": {
        "id": "48dLm13U1-Le",
        "colab_type": "code",
        "outputId": "938a568d-46ba-4073-f599-5ca3ced42acd",
        "colab": {
          "base_uri": "https://localhost:8080/",
          "height": 802
        }
      },
      "cell_type": "code",
      "source": [
        "# This code block should call model.fit_generator and train for\n",
        "# a number of epochs. \n",
        "history = model.fit_generator(\n",
        "    train_generator,\n",
        "    steps_per_epoch=1,  \n",
        "    epochs=30,\n",
        "    verbose=1, \n",
        "    callbacks=[callbacks])\n",
        "    \n",
        "# Expected output: \"Reached 99.9% accuracy so cancelling training!\"\""
      ],
      "execution_count": 0,
      "outputs": [
        {
          "output_type": "stream",
          "text": [
            "WARNING:tensorflow:From /usr/local/lib/python3.6/dist-packages/tensorflow/python/ops/math_ops.py:3066: to_int32 (from tensorflow.python.ops.math_ops) is deprecated and will be removed in a future version.\n",
            "Instructions for updating:\n",
            "Use tf.cast instead.\n",
            "Epoch 1/30\n",
            "1/1 [==============================] - 4s 4s/step - loss: 0.7001 - acc: 0.5000\n",
            "Epoch 2/30\n",
            "1/1 [==============================] - 0s 155ms/step - loss: 1.1031 - acc: 0.5000\n",
            "Epoch 3/30\n",
            "1/1 [==============================] - 0s 236ms/step - loss: 0.6741 - acc: 0.5000\n",
            "Epoch 4/30\n",
            "1/1 [==============================] - 0s 259ms/step - loss: 0.6804 - acc: 0.5000\n",
            "Epoch 5/30\n",
            "1/1 [==============================] - 0s 206ms/step - loss: 0.6587 - acc: 0.6125\n",
            "Epoch 6/30\n",
            "1/1 [==============================] - 0s 274ms/step - loss: 0.6200 - acc: 0.9125\n",
            "Epoch 7/30\n",
            "1/1 [==============================] - 0s 206ms/step - loss: 0.5605 - acc: 0.9375\n",
            "Epoch 8/30\n",
            "1/1 [==============================] - 0s 280ms/step - loss: 0.5262 - acc: 0.7500\n",
            "Epoch 9/30\n",
            "1/1 [==============================] - 0s 221ms/step - loss: 0.4577 - acc: 0.8875\n",
            "Epoch 10/30\n",
            "1/1 [==============================] - 0s 263ms/step - loss: 0.3603 - acc: 0.9625\n",
            "Epoch 11/30\n",
            "1/1 [==============================] - 0s 225ms/step - loss: 0.2902 - acc: 0.9625\n",
            "Epoch 12/30\n",
            "1/1 [==============================] - 0s 269ms/step - loss: 0.2693 - acc: 0.9125\n",
            "Epoch 13/30\n",
            "1/1 [==============================] - 0s 221ms/step - loss: 0.1999 - acc: 0.9500\n",
            "Epoch 14/30\n",
            "1/1 [==============================] - 0s 263ms/step - loss: 0.1757 - acc: 0.9500\n",
            "Epoch 15/30\n",
            "1/1 [==============================] - 0s 218ms/step - loss: 0.1490 - acc: 0.9375\n",
            "Epoch 16/30\n",
            "1/1 [==============================] - 0s 273ms/step - loss: 0.1341 - acc: 0.9375\n",
            "Epoch 17/30\n",
            "1/1 [==============================] - 0s 221ms/step - loss: 0.1338 - acc: 0.9625\n",
            "Epoch 18/30\n",
            "1/1 [==============================] - 0s 261ms/step - loss: 0.1195 - acc: 0.9500\n",
            "Epoch 19/30\n",
            "1/1 [==============================] - 0s 214ms/step - loss: 0.1075 - acc: 0.9500\n",
            "Epoch 20/30\n",
            "\n",
            "Desired Accuracy is met, Stopping training...\n",
            "1/1 [==============================] - 0s 268ms/step - loss: 0.1119 - acc: 1.0000\n"
          ],
          "name": "stdout"
        }
      ]
    }
  ]
}