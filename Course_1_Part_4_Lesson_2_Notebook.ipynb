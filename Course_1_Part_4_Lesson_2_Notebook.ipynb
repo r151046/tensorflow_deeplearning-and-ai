{
  "nbformat": 4,
  "nbformat_minor": 0,
  "metadata": {
    "colab": {
      "name": "Course 1 - Part 4 - Lesson 2 - Notebook.ipynb",
      "version": "0.3.2",
      "provenance": [],
      "collapsed_sections": [],
      "include_colab_link": true
    },
    "kernelspec": {
      "name": "python2",
      "display_name": "Python 2"
    }
  },
  "cells": [
    {
      "cell_type": "markdown",
      "metadata": {
        "id": "view-in-github",
        "colab_type": "text"
      },
      "source": [
        "<a href=\"https://colab.research.google.com/github/karim-aly/intro-to-tensorflow-for-ai-coursera/blob/master/Course_1_Part_4_Lesson_2_Notebook.ipynb\" target=\"_parent\"><img src=\"https://colab.research.google.com/assets/colab-badge.svg\" alt=\"Open In Colab\"/></a>"
      ]
    },
    {
      "metadata": {
        "id": "qnyTxjK_GbOD",
        "colab_type": "text"
      },
      "cell_type": "markdown",
      "source": [
        "# Beyond Hello World, A Computer Vision Example\n",
        "In the previous exercise you saw how to create a neural network that figured out the problem you were trying to solve. This gave an explicit example of learned behavior. Of course, in that instance, it was a bit of overkill because it would have been easier to write the function Y=2x-1 directly, instead of bothering with using Machine Learning to learn the relationship between X and Y for a fixed set of values, and extending that for all values.\n",
        "\n",
        "But what about a scenario where writing rules like that is much more difficult -- for example a computer vision problem? Let's take a look at a scenario where we can recognize different items of clothing, trained from a dataset containing 10 different types."
      ]
    },
    {
      "metadata": {
        "id": "H41FYgtlHPjW",
        "colab_type": "text"
      },
      "cell_type": "markdown",
      "source": [
        "## Start Coding\n",
        "\n",
        "Let's start with our import of TensorFlow"
      ]
    },
    {
      "metadata": {
        "id": "q3KzJyjv3rnA",
        "colab_type": "code",
        "outputId": "cebc775f-f5e3-4e9f-b170-b7e4972c1f3f",
        "colab": {
          "base_uri": "https://localhost:8080/",
          "height": 34
        }
      },
      "cell_type": "code",
      "source": [
        "import tensorflow as tf\n",
        "print(tf.__version__)"
      ],
      "execution_count": 0,
      "outputs": [
        {
          "output_type": "stream",
          "text": [
            "1.13.1\n"
          ],
          "name": "stdout"
        }
      ]
    },
    {
      "metadata": {
        "id": "n_n1U5do3u_F",
        "colab_type": "text"
      },
      "cell_type": "markdown",
      "source": [
        "The Fashion MNIST data is available directly in the tf.keras datasets API. You load it like this:"
      ]
    },
    {
      "metadata": {
        "id": "PmxkHFpt31bM",
        "colab_type": "code",
        "colab": {}
      },
      "cell_type": "code",
      "source": [
        "mnist = tf.keras.datasets.fashion_mnist"
      ],
      "execution_count": 0,
      "outputs": []
    },
    {
      "metadata": {
        "id": "GuoLQQBT4E-_",
        "colab_type": "text"
      },
      "cell_type": "markdown",
      "source": [
        "Calling load_data on this object will give you two sets of two lists, these will be the training and testing values for the graphics that contain the clothing items and their labels.\n"
      ]
    },
    {
      "metadata": {
        "id": "BTdRgExe4TRB",
        "colab_type": "code",
        "outputId": "34dd66fe-0ab8-4c7c-8924-840faa7001c6",
        "colab": {
          "base_uri": "https://localhost:8080/",
          "height": 204
        }
      },
      "cell_type": "code",
      "source": [
        "(training_images, training_labels), (test_images, test_labels) = mnist.load_data()"
      ],
      "execution_count": 0,
      "outputs": [
        {
          "output_type": "stream",
          "text": [
            "Downloading data from https://storage.googleapis.com/tensorflow/tf-keras-datasets/train-labels-idx1-ubyte.gz\n",
            "32768/29515 [=================================] - 0s 0us/step\n",
            "40960/29515 [=========================================] - 0s 0us/step\n",
            "Downloading data from https://storage.googleapis.com/tensorflow/tf-keras-datasets/train-images-idx3-ubyte.gz\n",
            "26427392/26421880 [==============================] - 0s 0us/step\n",
            "26435584/26421880 [==============================] - 0s 0us/step\n",
            "Downloading data from https://storage.googleapis.com/tensorflow/tf-keras-datasets/t10k-labels-idx1-ubyte.gz\n",
            "16384/5148 [===============================================================================================] - 0s 0us/step\n",
            "Downloading data from https://storage.googleapis.com/tensorflow/tf-keras-datasets/t10k-images-idx3-ubyte.gz\n",
            "4423680/4422102 [==============================] - 0s 0us/step\n",
            "4431872/4422102 [==============================] - 0s 0us/step\n"
          ],
          "name": "stdout"
        }
      ]
    },
    {
      "metadata": {
        "id": "rw395ROx4f5Q",
        "colab_type": "text"
      },
      "cell_type": "markdown",
      "source": [
        "What does these values look like? Let's print a training image, and a training label to see...Experiment with different indices in the array. For example, also take a look at index 42...that's a a different boot than the one at index 0\n"
      ]
    },
    {
      "metadata": {
        "id": "FPc9d3gJ3jWF",
        "colab_type": "code",
        "outputId": "974a7101-6106-43f8-ecc5-7fd03e64c890",
        "colab": {
          "base_uri": "https://localhost:8080/",
          "height": 1316
        }
      },
      "cell_type": "code",
      "source": [
        "import matplotlib.pyplot as plt\n",
        "plt.imshow(training_images[0])\n",
        "print(training_labels[0])\n",
        "print(training_images[0])"
      ],
      "execution_count": 0,
      "outputs": [
        {
          "output_type": "stream",
          "text": [
            "9\n",
            "[[  0   0   0   0   0   0   0   0   0   0   0   0   0   0   0   0   0   0\n",
            "    0   0   0   0   0   0   0   0   0   0]\n",
            " [  0   0   0   0   0   0   0   0   0   0   0   0   0   0   0   0   0   0\n",
            "    0   0   0   0   0   0   0   0   0   0]\n",
            " [  0   0   0   0   0   0   0   0   0   0   0   0   0   0   0   0   0   0\n",
            "    0   0   0   0   0   0   0   0   0   0]\n",
            " [  0   0   0   0   0   0   0   0   0   0   0   0   1   0   0  13  73   0\n",
            "    0   1   4   0   0   0   0   1   1   0]\n",
            " [  0   0   0   0   0   0   0   0   0   0   0   0   3   0  36 136 127  62\n",
            "   54   0   0   0   1   3   4   0   0   3]\n",
            " [  0   0   0   0   0   0   0   0   0   0   0   0   6   0 102 204 176 134\n",
            "  144 123  23   0   0   0   0  12  10   0]\n",
            " [  0   0   0   0   0   0   0   0   0   0   0   0   0   0 155 236 207 178\n",
            "  107 156 161 109  64  23  77 130  72  15]\n",
            " [  0   0   0   0   0   0   0   0   0   0   0   1   0  69 207 223 218 216\n",
            "  216 163 127 121 122 146 141  88 172  66]\n",
            " [  0   0   0   0   0   0   0   0   0   1   1   1   0 200 232 232 233 229\n",
            "  223 223 215 213 164 127 123 196 229   0]\n",
            " [  0   0   0   0   0   0   0   0   0   0   0   0   0 183 225 216 223 228\n",
            "  235 227 224 222 224 221 223 245 173   0]\n",
            " [  0   0   0   0   0   0   0   0   0   0   0   0   0 193 228 218 213 198\n",
            "  180 212 210 211 213 223 220 243 202   0]\n",
            " [  0   0   0   0   0   0   0   0   0   1   3   0  12 219 220 212 218 192\n",
            "  169 227 208 218 224 212 226 197 209  52]\n",
            " [  0   0   0   0   0   0   0   0   0   0   6   0  99 244 222 220 218 203\n",
            "  198 221 215 213 222 220 245 119 167  56]\n",
            " [  0   0   0   0   0   0   0   0   0   4   0   0  55 236 228 230 228 240\n",
            "  232 213 218 223 234 217 217 209  92   0]\n",
            " [  0   0   1   4   6   7   2   0   0   0   0   0 237 226 217 223 222 219\n",
            "  222 221 216 223 229 215 218 255  77   0]\n",
            " [  0   3   0   0   0   0   0   0   0  62 145 204 228 207 213 221 218 208\n",
            "  211 218 224 223 219 215 224 244 159   0]\n",
            " [  0   0   0   0  18  44  82 107 189 228 220 222 217 226 200 205 211 230\n",
            "  224 234 176 188 250 248 233 238 215   0]\n",
            " [  0  57 187 208 224 221 224 208 204 214 208 209 200 159 245 193 206 223\n",
            "  255 255 221 234 221 211 220 232 246   0]\n",
            " [  3 202 228 224 221 211 211 214 205 205 205 220 240  80 150 255 229 221\n",
            "  188 154 191 210 204 209 222 228 225   0]\n",
            " [ 98 233 198 210 222 229 229 234 249 220 194 215 217 241  65  73 106 117\n",
            "  168 219 221 215 217 223 223 224 229  29]\n",
            " [ 75 204 212 204 193 205 211 225 216 185 197 206 198 213 240 195 227 245\n",
            "  239 223 218 212 209 222 220 221 230  67]\n",
            " [ 48 203 183 194 213 197 185 190 194 192 202 214 219 221 220 236 225 216\n",
            "  199 206 186 181 177 172 181 205 206 115]\n",
            " [  0 122 219 193 179 171 183 196 204 210 213 207 211 210 200 196 194 191\n",
            "  195 191 198 192 176 156 167 177 210  92]\n",
            " [  0   0  74 189 212 191 175 172 175 181 185 188 189 188 193 198 204 209\n",
            "  210 210 211 188 188 194 192 216 170   0]\n",
            " [  2   0   0   0  66 200 222 237 239 242 246 243 244 221 220 193 191 179\n",
            "  182 182 181 176 166 168  99  58   0   0]\n",
            " [  0   0   0   0   0   0   0  40  61  44  72  41  35   0   0   0   0   0\n",
            "    0   0   0   0   0   0   0   0   0   0]\n",
            " [  0   0   0   0   0   0   0   0   0   0   0   0   0   0   0   0   0   0\n",
            "    0   0   0   0   0   0   0   0   0   0]\n",
            " [  0   0   0   0   0   0   0   0   0   0   0   0   0   0   0   0   0   0\n",
            "    0   0   0   0   0   0   0   0   0   0]]\n"
          ],
          "name": "stdout"
        },
        {
          "output_type": "display_data",
          "data": {
            "image/png": "[encoded data removed]",
            "text/plain": [
              "<Figure size 576x396 with 1 Axes>"
            ]
          },
          "metadata": {
            "tags": []
          }
        }
      ]
    },
    {
      "metadata": {
        "id": "3cbrdH225_nH",
        "colab_type": "text"
      },
      "cell_type": "markdown",
      "source": [
        "You'll notice that all of the values in the number are between 0 and 255. If we are training a neural network, for various reasons it's easier if we treat all values as between 0 and 1, a process called '**normalizing**'...and fortunately in Python it's easy to normalize a list like this without looping. You do it like this:"
      ]
    },
    {
      "metadata": {
        "id": "kRH19pWs6ZDn",
        "colab_type": "code",
        "colab": {}
      },
      "cell_type": "code",
      "source": [
        "training_images  = training_images / 255.0\n",
        "test_images = test_images / 255.0"
      ],
      "execution_count": 0,
      "outputs": []
    },
    {
      "metadata": {
        "id": "3DkO0As46lRn",
        "colab_type": "text"
      },
      "cell_type": "markdown",
      "source": [
        "Now you might be wondering why there are 2 sets...training and testing -- remember we spoke about this in the intro? The idea is to have 1 set of data for training, and then another set of data...that the model hasn't yet seen...to see how good it would be at classifying values. After all, when you're done, you're going to want to try it out with data that it hadn't previously seen!"
      ]
    },
    {
      "metadata": {
        "id": "dIn7S9gf62ie",
        "colab_type": "text"
      },
      "cell_type": "markdown",
      "source": [
        "Let's now design the model. There's quite a few new concepts here, but don't worry, you'll get the hang of them. "
      ]
    },
    {
      "metadata": {
        "id": "7mAyndG3kVlK",
        "colab_type": "code",
        "colab": {}
      },
      "cell_type": "code",
      "source": [
        "model = tf.keras.models.Sequential([tf.keras.layers.Flatten(), \n",
        "                                    tf.keras.layers.Dense(128, activation=tf.nn.relu), \n",
        "                                    tf.keras.layers.Dense(10, activation=tf.nn.softmax)])"
      ],
      "execution_count": 0,
      "outputs": []
    },
    {
      "metadata": {
        "id": "-lUcWaiX7MFj",
        "colab_type": "text"
      },
      "cell_type": "markdown",
      "source": [
        "**Sequential**: That defines a SEQUENCE of layers in the neural network\n",
        "\n",
        "**Flatten**: Remember earlier where our images were a square, when you printed them out? Flatten just takes that square and turns it into a 1 dimensional set.\n",
        "\n",
        "**Dense**: Adds a layer of neurons\n",
        "\n",
        "Each layer of neurons need an **activation function** to tell them what to do. There's lots of options, but just use these for now. \n",
        "\n",
        "**Relu** effectively means \"If X>0 return X, else return 0\" -- so what it does it it only passes values 0 or greater to the next layer in the network.\n",
        "\n",
        "**Softmax** takes a set of values, and effectively picks the biggest one, so, for example, if the output of the last layer looks like [0.1, 0.1, 0.05, 0.1, 9.5, 0.1, 0.05, 0.05, 0.05], it saves you from fishing through it looking for the biggest value, and turns it into [0,0,0,0,1,0,0,0,0] -- The goal is to save a lot of coding!\n"
      ]
    },
    {
      "metadata": {
        "id": "c8vbMCqb9Mh6",
        "colab_type": "text"
      },
      "cell_type": "markdown",
      "source": [
        "The next thing to do, now the model is defined, is to actually build it. You do this by compiling it with an optimizer and loss function as before -- and then you train it by calling **model.fit ** asking it to fit your training data to your training labels -- i.e. have it figure out the relationship between the training data and its actual labels, so in future if you have data that looks like the training data, then it can make a prediction for what that data would look like. "
      ]
    },
    {
      "metadata": {
        "id": "BLMdl9aP8nQ0",
        "colab_type": "code",
        "outputId": "d2b6420b-b785-496c-b43d-03b63c598d62",
        "colab": {
          "base_uri": "https://localhost:8080/",
          "height": 3505
        }
      },
      "cell_type": "code",
      "source": [
        "model.compile(optimizer = tf.train.AdamOptimizer(),\n",
        "              loss = 'sparse_categorical_crossentropy',\n",
        "              metrics=['accuracy'])\n",
        "\n",
        "model.fit(training_images, training_labels, epochs=100)"
      ],
      "execution_count": 0,
      "outputs": [
        {
          "output_type": "stream",
          "text": [
            "WARNING:tensorflow:From /usr/local/lib/python2.7/dist-packages/tensorflow/python/ops/resource_variable_ops.py:435: colocate_with (from tensorflow.python.framework.ops) is deprecated and will be removed in a future version.\n",
            "Instructions for updating:\n",
            "Colocations handled automatically by placer.\n",
            "Epoch 1/100\n",
            "60000/60000 [==============================] - 5s 83us/sample - loss: 0.4948 - acc: 0.8249\n",
            "Epoch 2/100\n",
            "60000/60000 [==============================] - 5s 76us/sample - loss: 0.3738 - acc: 0.8651\n",
            "Epoch 3/100\n",
            "60000/60000 [==============================] - 5s 76us/sample - loss: 0.3339 - acc: 0.8780\n",
            "Epoch 4/100\n",
            "60000/60000 [==============================] - 4s 75us/sample - loss: 0.3107 - acc: 0.8853\n",
            "Epoch 5/100\n",
            "60000/60000 [==============================] - 5s 76us/sample - loss: 0.2931 - acc: 0.8917\n",
            "Epoch 6/100\n",
            "60000/60000 [==============================] - 5s 76us/sample - loss: 0.2805 - acc: 0.8966\n",
            "Epoch 7/100\n",
            "60000/60000 [==============================] - 5s 76us/sample - loss: 0.2669 - acc: 0.9020\n",
            "Epoch 8/100\n",
            "60000/60000 [==============================] - 5s 76us/sample - loss: 0.2562 - acc: 0.9057\n",
            "Epoch 9/100\n",
            "60000/60000 [==============================] - 5s 76us/sample - loss: 0.2456 - acc: 0.9088\n",
            "Epoch 10/100\n",
            "60000/60000 [==============================] - 5s 75us/sample - loss: 0.2401 - acc: 0.9104\n",
            "Epoch 11/100\n",
            "60000/60000 [==============================] - 4s 75us/sample - loss: 0.2313 - acc: 0.9136\n",
            "Epoch 12/100\n",
            "60000/60000 [==============================] - 5s 88us/sample - loss: 0.2221 - acc: 0.9175\n",
            "Epoch 13/100\n",
            "60000/60000 [==============================] - 5s 77us/sample - loss: 0.2162 - acc: 0.9189\n",
            "Epoch 14/100\n",
            "60000/60000 [==============================] - 4s 75us/sample - loss: 0.2104 - acc: 0.9214\n",
            "Epoch 15/100\n",
            "60000/60000 [==============================] - 5s 89us/sample - loss: 0.2032 - acc: 0.9239\n",
            "Epoch 16/100\n",
            "60000/60000 [==============================] - 4s 75us/sample - loss: 0.1980 - acc: 0.9265\n",
            "Epoch 17/100\n",
            "60000/60000 [==============================] - 4s 75us/sample - loss: 0.1937 - acc: 0.9265\n",
            "Epoch 18/100\n",
            "60000/60000 [==============================] - 5s 89us/sample - loss: 0.1865 - acc: 0.9293\n",
            "Epoch 19/100\n",
            "60000/60000 [==============================] - 5s 76us/sample - loss: 0.1844 - acc: 0.9315\n",
            "Epoch 20/100\n",
            "60000/60000 [==============================] - 4s 74us/sample - loss: 0.1782 - acc: 0.9324\n",
            "Epoch 21/100\n",
            "60000/60000 [==============================] - 5s 89us/sample - loss: 0.1752 - acc: 0.9341\n",
            "Epoch 22/100\n",
            "60000/60000 [==============================] - 5s 76us/sample - loss: 0.1686 - acc: 0.9371\n",
            "Epoch 23/100\n",
            "60000/60000 [==============================] - 5s 88us/sample - loss: 0.1661 - acc: 0.9379\n",
            "Epoch 24/100\n",
            "60000/60000 [==============================] - 4s 74us/sample - loss: 0.1612 - acc: 0.9398\n",
            "Epoch 25/100\n",
            "60000/60000 [==============================] - 5s 88us/sample - loss: 0.1564 - acc: 0.9404\n",
            "Epoch 26/100\n",
            "60000/60000 [==============================] - 4s 74us/sample - loss: 0.1543 - acc: 0.9414\n",
            "Epoch 27/100\n",
            "60000/60000 [==============================] - 5s 87us/sample - loss: 0.1517 - acc: 0.9420\n",
            "Epoch 28/100\n",
            "60000/60000 [==============================] - 4s 74us/sample - loss: 0.1469 - acc: 0.9455\n",
            "Epoch 29/100\n",
            "60000/60000 [==============================] - 5s 87us/sample - loss: 0.1436 - acc: 0.9451\n",
            "Epoch 30/100\n",
            "60000/60000 [==============================] - 5s 75us/sample - loss: 0.1423 - acc: 0.9456\n",
            "Epoch 31/100\n",
            "60000/60000 [==============================] - 4s 75us/sample - loss: 0.1380 - acc: 0.9481\n",
            "Epoch 32/100\n",
            "60000/60000 [==============================] - 5s 88us/sample - loss: 0.1372 - acc: 0.9479\n",
            "Epoch 33/100\n",
            "60000/60000 [==============================] - 4s 73us/sample - loss: 0.1314 - acc: 0.9508\n",
            "Epoch 34/100\n",
            "60000/60000 [==============================] - 4s 74us/sample - loss: 0.1303 - acc: 0.9507\n",
            "Epoch 35/100\n",
            "60000/60000 [==============================] - 5s 89us/sample - loss: 0.1294 - acc: 0.9510\n",
            "Epoch 36/100\n",
            "60000/60000 [==============================] - 5s 76us/sample - loss: 0.1262 - acc: 0.9523\n",
            "Epoch 37/100\n",
            "60000/60000 [==============================] - 4s 73us/sample - loss: 0.1229 - acc: 0.9534\n",
            "Epoch 38/100\n",
            "60000/60000 [==============================] - 5s 87us/sample - loss: 0.1192 - acc: 0.9556\n",
            "Epoch 39/100\n",
            "60000/60000 [==============================] - 5s 80us/sample - loss: 0.1183 - acc: 0.9557\n",
            "Epoch 40/100\n",
            "60000/60000 [==============================] - 4s 73us/sample - loss: 0.1178 - acc: 0.9570\n",
            "Epoch 41/100\n",
            "60000/60000 [==============================] - 5s 82us/sample - loss: 0.1135 - acc: 0.9578\n",
            "Epoch 42/100\n",
            "60000/60000 [==============================] - 4s 74us/sample - loss: 0.1116 - acc: 0.9585\n",
            "Epoch 43/100\n",
            "60000/60000 [==============================] - 5s 87us/sample - loss: 0.1130 - acc: 0.9572\n",
            "Epoch 44/100\n",
            "60000/60000 [==============================] - 4s 74us/sample - loss: 0.1083 - acc: 0.9588\n",
            "Epoch 45/100\n",
            "60000/60000 [==============================] - 5s 86us/sample - loss: 0.1030 - acc: 0.9621\n",
            "Epoch 46/100\n",
            "60000/60000 [==============================] - 4s 73us/sample - loss: 0.1045 - acc: 0.9614\n",
            "Epoch 47/100\n",
            "60000/60000 [==============================] - 5s 86us/sample - loss: 0.1038 - acc: 0.9612\n",
            "Epoch 48/100\n",
            "60000/60000 [==============================] - 4s 75us/sample - loss: 0.1031 - acc: 0.9611\n",
            "Epoch 49/100\n",
            "60000/60000 [==============================] - 6s 93us/sample - loss: 0.0988 - acc: 0.9630\n",
            "Epoch 50/100\n",
            "60000/60000 [==============================] - 4s 75us/sample - loss: 0.0990 - acc: 0.9633\n",
            "Epoch 51/100\n",
            "60000/60000 [==============================] - 5s 87us/sample - loss: 0.0970 - acc: 0.9635\n",
            "Epoch 52/100\n",
            "60000/60000 [==============================] - 4s 75us/sample - loss: 0.0938 - acc: 0.9652\n",
            "Epoch 53/100\n",
            "60000/60000 [==============================] - 5s 86us/sample - loss: 0.0930 - acc: 0.9661\n",
            "Epoch 54/100\n",
            "60000/60000 [==============================] - 4s 74us/sample - loss: 0.0925 - acc: 0.9649\n",
            "Epoch 55/100\n",
            "60000/60000 [==============================] - 5s 85us/sample - loss: 0.0911 - acc: 0.9663\n",
            "Epoch 56/100\n",
            "60000/60000 [==============================] - 4s 74us/sample - loss: 0.0890 - acc: 0.9660\n",
            "Epoch 57/100\n",
            "60000/60000 [==============================] - 5s 88us/sample - loss: 0.0888 - acc: 0.9673\n",
            "Epoch 58/100\n",
            "60000/60000 [==============================] - 4s 75us/sample - loss: 0.0866 - acc: 0.9678\n",
            "Epoch 59/100\n",
            "60000/60000 [==============================] - 5s 88us/sample - loss: 0.0852 - acc: 0.9682\n",
            "Epoch 60/100\n",
            "60000/60000 [==============================] - 5s 75us/sample - loss: 0.0850 - acc: 0.9681\n",
            "Epoch 61/100\n",
            "60000/60000 [==============================] - 5s 88us/sample - loss: 0.0834 - acc: 0.9692\n",
            "Epoch 62/100\n",
            "60000/60000 [==============================] - 4s 74us/sample - loss: 0.0820 - acc: 0.9696\n",
            "Epoch 63/100\n",
            "60000/60000 [==============================] - 5s 88us/sample - loss: 0.0828 - acc: 0.9689\n",
            "Epoch 64/100\n",
            "60000/60000 [==============================] - 4s 74us/sample - loss: 0.0758 - acc: 0.9726\n",
            "Epoch 65/100\n",
            "60000/60000 [==============================] - 5s 87us/sample - loss: 0.0799 - acc: 0.9707\n",
            "Epoch 66/100\n",
            "60000/60000 [==============================] - 4s 74us/sample - loss: 0.0766 - acc: 0.9723\n",
            "Epoch 67/100\n",
            "60000/60000 [==============================] - 5s 87us/sample - loss: 0.0748 - acc: 0.9721\n",
            "Epoch 68/100\n",
            "60000/60000 [==============================] - 4s 74us/sample - loss: 0.0764 - acc: 0.9719\n",
            "Epoch 69/100\n",
            "60000/60000 [==============================] - 5s 86us/sample - loss: 0.0721 - acc: 0.9736\n",
            "Epoch 70/100\n",
            "60000/60000 [==============================] - 5s 76us/sample - loss: 0.0741 - acc: 0.9731\n",
            "Epoch 71/100\n",
            "60000/60000 [==============================] - 5s 90us/sample - loss: 0.0733 - acc: 0.9728\n",
            "Epoch 72/100\n",
            "60000/60000 [==============================] - 4s 75us/sample - loss: 0.0738 - acc: 0.9729\n",
            "Epoch 73/100\n",
            "60000/60000 [==============================] - 5s 88us/sample - loss: 0.0693 - acc: 0.9744\n",
            "Epoch 74/100\n",
            "60000/60000 [==============================] - 5s 76us/sample - loss: 0.0704 - acc: 0.9742\n",
            "Epoch 75/100\n",
            "60000/60000 [==============================] - 5s 90us/sample - loss: 0.0700 - acc: 0.9743\n",
            "Epoch 76/100\n",
            "60000/60000 [==============================] - 4s 75us/sample - loss: 0.0662 - acc: 0.9749\n",
            "Epoch 77/100\n",
            "60000/60000 [==============================] - 5s 78us/sample - loss: 0.0712 - acc: 0.9733\n",
            "Epoch 78/100\n",
            "60000/60000 [==============================] - 5s 75us/sample - loss: 0.0650 - acc: 0.9753\n",
            "Epoch 79/100\n",
            "60000/60000 [==============================] - 4s 74us/sample - loss: 0.0664 - acc: 0.9749\n",
            "Epoch 80/100\n",
            "60000/60000 [==============================] - 4s 75us/sample - loss: 0.0635 - acc: 0.9764\n",
            "Epoch 81/100\n",
            "60000/60000 [==============================] - 5s 76us/sample - loss: 0.0642 - acc: 0.9763\n",
            "Epoch 82/100\n",
            "60000/60000 [==============================] - 4s 74us/sample - loss: 0.0625 - acc: 0.9765\n",
            "Epoch 83/100\n",
            "60000/60000 [==============================] - 5s 76us/sample - loss: 0.0619 - acc: 0.9768\n",
            "Epoch 84/100\n",
            "60000/60000 [==============================] - 4s 74us/sample - loss: 0.0602 - acc: 0.9776\n",
            "Epoch 85/100\n",
            "60000/60000 [==============================] - 4s 74us/sample - loss: 0.0619 - acc: 0.9772\n",
            "Epoch 86/100\n",
            "60000/60000 [==============================] - 5s 80us/sample - loss: 0.0602 - acc: 0.9787\n",
            "Epoch 87/100\n",
            "60000/60000 [==============================] - 4s 74us/sample - loss: 0.0620 - acc: 0.9772\n",
            "Epoch 88/100\n",
            "60000/60000 [==============================] - 5s 83us/sample - loss: 0.0599 - acc: 0.9779\n",
            "Epoch 89/100\n",
            "60000/60000 [==============================] - 4s 74us/sample - loss: 0.0575 - acc: 0.9785\n",
            "Epoch 90/100\n",
            "60000/60000 [==============================] - 5s 87us/sample - loss: 0.0577 - acc: 0.9782\n",
            "Epoch 91/100\n",
            "60000/60000 [==============================] - 4s 73us/sample - loss: 0.0573 - acc: 0.9786\n",
            "Epoch 92/100\n",
            "60000/60000 [==============================] - 5s 89us/sample - loss: 0.0574 - acc: 0.9786\n",
            "Epoch 93/100\n",
            "60000/60000 [==============================] - 4s 75us/sample - loss: 0.0554 - acc: 0.9801\n",
            "Epoch 94/100\n",
            "60000/60000 [==============================] - 5s 88us/sample - loss: 0.0542 - acc: 0.9801\n",
            "Epoch 95/100\n",
            "60000/60000 [==============================] - 4s 73us/sample - loss: 0.0540 - acc: 0.9807\n",
            "Epoch 96/100\n",
            "60000/60000 [==============================] - 5s 86us/sample - loss: 0.0550 - acc: 0.9801\n",
            "Epoch 97/100\n",
            "60000/60000 [==============================] - 4s 73us/sample - loss: 0.0533 - acc: 0.9805\n",
            "Epoch 98/100\n",
            "60000/60000 [==============================] - 5s 85us/sample - loss: 0.0538 - acc: 0.9799\n",
            "Epoch 99/100\n",
            "60000/60000 [==============================] - 4s 74us/sample - loss: 0.0524 - acc: 0.9806\n",
            "Epoch 100/100\n",
            "60000/60000 [==============================] - 5s 91us/sample - loss: 0.0512 - acc: 0.9814\n"
          ],
          "name": "stdout"
        },
        {
          "output_type": "execute_result",
          "data": {
            "text/plain": [
              "<tensorflow.python.keras.callbacks.History at 0x7f63de5edc50>"
            ]
          },
          "metadata": {
            "tags": []
          },
          "execution_count": 7
        }
      ]
    },
    {
      "metadata": {
        "id": "-JJMsvSB-1UY",
        "colab_type": "text"
      },
      "cell_type": "markdown",
      "source": [
        "Once it's done training -- you should see an accuracy value at the end of the final epoch. It might look something like 0.9098. This tells you that your neural network is about 91% accurate in classifying the training data. I.E., it figured out a pattern match between the image and the labels that worked 91% of the time. Not great, but not bad considering it was only trained for 5 epochs and done quite quickly.\n",
        "\n",
        "But how would it work with unseen data? That's why we have the test images. We can call model.evaluate, and pass in the two sets, and it will report back the loss for each. Let's give it a try:"
      ]
    },
    {
      "metadata": {
        "id": "WzlqsEzX9s5P",
        "colab_type": "code",
        "outputId": "7d87fd62-f63f-433f-cf7c-183994c46d42",
        "colab": {
          "base_uri": "https://localhost:8080/",
          "height": 51
        }
      },
      "cell_type": "code",
      "source": [
        "model.evaluate(test_images, test_labels)"
      ],
      "execution_count": 0,
      "outputs": [
        {
          "output_type": "stream",
          "text": [
            "10000/10000 [==============================] - 0s 50us/sample - loss: 0.6920 - acc: 0.8853\n"
          ],
          "name": "stdout"
        },
        {
          "output_type": "execute_result",
          "data": {
            "text/plain": [
              "[0.6920033051047474, 0.8853]"
            ]
          },
          "metadata": {
            "tags": []
          },
          "execution_count": 8
        }
      ]
    },
    {
      "metadata": {
        "id": "6tki-Aro_Uax",
        "colab_type": "text"
      },
      "cell_type": "markdown",
      "source": [
        "For me, that returned a accuracy of about .8838, which means it was about 88% accurate. As expected it probably would not do as well with *unseen* data as it did with data it was trained on!  As you go through this course, you'll look at ways to improve this. \n",
        "\n",
        "To explore further, try the below exercises:\n"
      ]
    },
    {
      "metadata": {
        "id": "htldZNWcIPSN",
        "colab_type": "text"
      },
      "cell_type": "markdown",
      "source": [
        "# Exploration Exercises"
      ]
    },
    {
      "metadata": {
        "id": "rquQqIx4AaGR",
        "colab_type": "text"
      },
      "cell_type": "markdown",
      "source": [
        "###Exercise 1:\n",
        "For this first exercise run the below code: It creates a set of classifications for each of the test images, and then prints the first entry in the classifications. The output, after you run it is a list of numbers. Why do you think this is, and what do those numbers represent? "
      ]
    },
    {
      "metadata": {
        "id": "RyEIki0z_hAD",
        "colab_type": "code",
        "outputId": "b9862bc7-2df5-467d-ffb8-539e8252916e",
        "colab": {
          "base_uri": "https://localhost:8080/",
          "height": 51
        }
      },
      "cell_type": "code",
      "source": [
        "classifications = model.predict(test_images)\n",
        "\n",
        "print(classifications[0])"
      ],
      "execution_count": 0,
      "outputs": [
        {
          "output_type": "stream",
          "text": [
            "[6.2333650e-26 0.0000000e+00 8.3554794e-22 0.0000000e+00 2.3282468e-23\n",
            " 7.0653986e-12 5.8570089e-23 8.5230589e-10 2.4029555e-19 1.0000000e+00]\n"
          ],
          "name": "stdout"
        }
      ]
    },
    {
      "metadata": {
        "id": "MdzqbQhRArzm",
        "colab_type": "text"
      },
      "cell_type": "markdown",
      "source": [
        "Hint: try running print(test_labels[0]) -- and you'll get a 9. Does that help you understand why this list looks the way it does? "
      ]
    },
    {
      "metadata": {
        "id": "WnBGOrMiA1n5",
        "colab_type": "code",
        "outputId": "dd1c91b8-865c-4e1b-d508-bc205bcb9b09",
        "colab": {
          "base_uri": "https://localhost:8080/",
          "height": 34
        }
      },
      "cell_type": "code",
      "source": [
        "print(test_labels[0])"
      ],
      "execution_count": 0,
      "outputs": [
        {
          "output_type": "stream",
          "text": [
            "9\n"
          ],
          "name": "stdout"
        }
      ]
    },
    {
      "metadata": {
        "id": "uUs7eqr7uSvs",
        "colab_type": "text"
      },
      "cell_type": "markdown",
      "source": [
        "### What does this list represent?\n",
        "\n",
        "\n",
        "1.   It's 10 random meaningless values\n",
        "2.   It's the first 10 classifications that the computer made\n",
        "3.   It's the probability that this item is each of the 10 classes\n",
        "\n"
      ]
    },
    {
      "metadata": {
        "id": "wAbr92RTA67u",
        "colab_type": "text"
      },
      "cell_type": "markdown",
      "source": [
        "####Answer: \n",
        "The correct answer is (3)\n",
        "\n",
        "The output of the model is a list of 10 numbers. These numbers are a probability that the value being classified is the corresponding value, i.e. the first value in the list is the probability that the handwriting is of a '0', the next is a '1' etc. Notice that they are all VERY LOW probabilities.\n",
        "\n",
        "For the 7, the probability was .999+, i.e. the neural network is telling us that it's almost certainly a 7."
      ]
    },
    {
      "metadata": {
        "id": "CD4kC6TBu-69",
        "colab_type": "text"
      },
      "cell_type": "markdown",
      "source": [
        "### How do you know that this list tells you that the item is an ankle boot?\n",
        "\n",
        "\n",
        "1.   There's not enough information to answer that question\n",
        "2.   The 10th element on the list is the biggest, and the ankle boot is labelled 9\n",
        "2.   The ankle boot is label 9, and there are 0->9 elements in the list\n",
        "\n",
        "\n"
      ]
    },
    {
      "metadata": {
        "id": "I-haLncrva5L",
        "colab_type": "text"
      },
      "cell_type": "markdown",
      "source": [
        "####Answer\n",
        "The correct answer is (2). Both the list and the labels are 0 based, so the ankle boot having label 9 means that it is the 10th of the 10 classes. The list having the 10th element being the highest value means that the Neural Network has predicted that the item it is classifying is most likely an ankle boot"
      ]
    },
    {
      "metadata": {
        "id": "OgQSIfDSOWv6",
        "colab_type": "text"
      },
      "cell_type": "markdown",
      "source": [
        "##Exercise 2: \n",
        "Let's now look at the layers in your model. Experiment with different values for the dense layer with 512 neurons. What different results do you get for loss, training time etc? Why do you think that's the case? \n",
        "\n"
      ]
    },
    {
      "metadata": {
        "id": "GSZSwV5UObQP",
        "colab_type": "code",
        "outputId": "35102f37-5b7a-4a09-c741-331dd5cc5815",
        "colab": {
          "base_uri": "https://localhost:8080/",
          "height": 323
        }
      },
      "cell_type": "code",
      "source": [
        "import tensorflow as tf\n",
        "print(tf.__version__)\n",
        "\n",
        "mnist = tf.keras.datasets.mnist\n",
        "\n",
        "(training_images, training_labels) ,  (test_images, test_labels) = mnist.load_data()\n",
        "\n",
        "training_images = training_images/255.0\n",
        "test_images = test_images/255.0\n",
        "\n",
        "model = tf.keras.models.Sequential([tf.keras.layers.Flatten(),\n",
        "                                    tf.keras.layers.Dense(1024, activation=tf.nn.relu),\n",
        "                                    tf.keras.layers.Dense(10, activation=tf.nn.softmax)])\n",
        "\n",
        "model.compile(optimizer = 'adam',\n",
        "              loss = 'sparse_categorical_crossentropy')\n",
        "\n",
        "model.fit(training_images, training_labels, epochs=5)\n",
        "\n",
        "model.evaluate(test_images, test_labels)\n",
        "\n",
        "classifications = model.predict(test_images)\n",
        "\n",
        "print(classifications[0])\n",
        "print(test_labels[0])"
      ],
      "execution_count": 0,
      "outputs": [
        {
          "output_type": "stream",
          "text": [
            "1.13.1\n",
            "Downloading data from https://storage.googleapis.com/tensorflow/tf-keras-datasets/mnist.npz\n",
            "11493376/11490434 [==============================] - 0s 0us/step\n",
            "11501568/11490434 [==============================] - 0s 0us/step\n",
            "Epoch 1/5\n",
            "60000/60000 [==============================] - 24s 396us/sample - loss: 0.1856\n",
            "Epoch 2/5\n",
            "60000/60000 [==============================] - 24s 401us/sample - loss: 0.0752\n",
            "Epoch 3/5\n",
            "60000/60000 [==============================] - 23s 385us/sample - loss: 0.0499\n",
            "Epoch 4/5\n",
            "60000/60000 [==============================] - 24s 397us/sample - loss: 0.0344\n",
            "Epoch 5/5\n",
            "60000/60000 [==============================] - 23s 391us/sample - loss: 0.0273\n",
            "10000/10000 [==============================] - 1s 85us/sample - loss: 0.0746\n",
            "[2.2598290e-10 4.4555195e-09 7.6769657e-09 2.4926132e-08 3.2930382e-15\n",
            " 6.4282360e-12 3.7229028e-13 9.9999988e-01 3.3849398e-10 6.4480069e-08]\n",
            "7\n"
          ],
          "name": "stdout"
        }
      ]
    },
    {
      "metadata": {
        "id": "bOOEnHZFv5cS",
        "colab_type": "text"
      },
      "cell_type": "markdown",
      "source": [
        "###Question 1. Increase to 1024 Neurons -- What's the impact?\n",
        "\n",
        "1. Training takes longer, but is more accurate\n",
        "2. Training takes longer, but no impact on accuracy\n",
        "3. Training takes the same time, but is more accurate\n"
      ]
    },
    {
      "metadata": {
        "id": "U73MUP2lwrI2",
        "colab_type": "text"
      },
      "cell_type": "markdown",
      "source": [
        "####Answer\n",
        "The correct answer is (1) by adding more Neurons we have to do more calculations, slowing down the process, but in this case they have a good impact -- we do get more accurate. That doesn't mean it's always a case of 'more is better', you can hit the law of diminishing returns very quickly!"
      ]
    },
    {
      "metadata": {
        "id": "WtWxK16hQxLN",
        "colab_type": "text"
      },
      "cell_type": "markdown",
      "source": [
        "##Exercise 3: \n",
        "\n",
        "What would happen if you remove the Flatten() layer. Why do you think that's the case? \n",
        "\n",
        "You get an error about the shape of the data. It may seem vague right now, but it reinforces the rule of thumb that the first layer in your network should be the same shape as your data. Right now our data is 28x28 images, and 28 layers of 28 neurons would be infeasible, so it makes more sense to 'flatten' that 28,28 into a 784x1. Instead of wriitng all the code to handle that ourselves, we add the Flatten() layer at the begining, and when the arrays are loaded into the model later, they'll automatically be flattened for us."
      ]
    },
    {
      "metadata": {
        "id": "ExNxCwhcQ18S",
        "colab_type": "code",
        "colab": {}
      },
      "cell_type": "code",
      "source": [
        "import tensorflow as tf\n",
        "print(tf.__version__)\n",
        "\n",
        "mnist = tf.keras.datasets.mnist\n",
        "\n",
        "(training_images, training_labels) ,  (test_images, test_labels) = mnist.load_data()\n",
        "\n",
        "training_images = training_images/255.0\n",
        "test_images = test_images/255.0\n",
        "\n",
        "model = tf.keras.models.Sequential([#tf.keras.layers.Flatten(),\n",
        "                                    tf.keras.layers.Dense(64, activation=tf.nn.relu),\n",
        "                                    tf.keras.layers.Dense(10, activation=tf.nn.softmax)])\n",
        "\n",
        "model.compile(optimizer = 'adam',\n",
        "              loss = 'sparse_categorical_crossentropy')\n",
        "\n",
        "model.fit(training_images, training_labels, epochs=5)\n",
        "\n",
        "model.evaluate(test_images, test_labels)\n",
        "\n",
        "classifications = model.predict(test_images)\n",
        "\n",
        "print(classifications[0])\n",
        "print(test_labels[0])"
      ],
      "execution_count": 0,
      "outputs": []
    },
    {
      "metadata": {
        "id": "VqoCR-ieSGDg",
        "colab_type": "text"
      },
      "cell_type": "markdown",
      "source": [
        "##Exercise 4: \n",
        "\n",
        "Consider the final (output) layers. Why are there 10 of them? What would happen if you had a different amount than 10? For example, try training the network with 5\n",
        "\n",
        "You get an error as soon as it finds an unexpected value. Another rule of thumb -- the number of neurons in the last layer should match the number of classes you are classifying for. In this case it's the digits 0-9, so there are 10 of them, hence you should have 10 neurons in your final layer."
      ]
    },
    {
      "metadata": {
        "id": "MMckVntcSPvo",
        "colab_type": "code",
        "colab": {}
      },
      "cell_type": "code",
      "source": [
        "import tensorflow as tf\n",
        "print(tf.__version__)\n",
        "\n",
        "mnist = tf.keras.datasets.mnist\n",
        "\n",
        "(training_images, training_labels) ,  (test_images, test_labels) = mnist.load_data()\n",
        "\n",
        "training_images = training_images/255.0\n",
        "test_images = test_images/255.0\n",
        "\n",
        "model = tf.keras.models.Sequential([tf.keras.layers.Flatten(),\n",
        "                                    tf.keras.layers.Dense(64, activation=tf.nn.relu),\n",
        "                                    tf.keras.layers.Dense(5, activation=tf.nn.softmax)])\n",
        "\n",
        "model.compile(optimizer = 'adam',\n",
        "              loss = 'sparse_categorical_crossentropy')\n",
        "\n",
        "model.fit(training_images, training_labels, epochs=5)\n",
        "\n",
        "model.evaluate(test_images, test_labels)\n",
        "\n",
        "classifications = model.predict(test_images)\n",
        "\n",
        "print(classifications[0])\n",
        "print(test_labels[0])"
      ],
      "execution_count": 0,
      "outputs": []
    },
    {
      "metadata": {
        "id": "-0lF5MuvSuZF",
        "colab_type": "text"
      },
      "cell_type": "markdown",
      "source": [
        "##Exercise 5: \n",
        "\n",
        "Consider the effects of additional layers in the network. What will happen if you add another layer between the one with 512 and the final layer with 10. \n",
        "\n",
        "Ans: There isn't a significant impact -- because this is relatively simple data. For far more complex data (including color images to be classified as flowers that you'll see in the next lesson), extra layers are often necessary. "
      ]
    },
    {
      "metadata": {
        "id": "b1YPa6UhS8Es",
        "colab_type": "code",
        "colab": {}
      },
      "cell_type": "code",
      "source": [
        "import tensorflow as tf\n",
        "print(tf.__version__)\n",
        "\n",
        "mnist = tf.keras.datasets.mnist\n",
        "\n",
        "(training_images, training_labels) ,  (test_images, test_labels) = mnist.load_data()\n",
        "\n",
        "training_images = training_images/255.0\n",
        "test_images = test_images/255.0\n",
        "\n",
        "model = tf.keras.models.Sequential([tf.keras.layers.Flatten(),\n",
        "                                    tf.keras.layers.Dense(512, activation=tf.nn.relu),\n",
        "                                    tf.keras.layers.Dense(256, activation=tf.nn.relu),\n",
        "                                    tf.keras.layers.Dense(5, activation=tf.nn.softmax)])\n",
        "\n",
        "model.compile(optimizer = 'adam',\n",
        "              loss = 'sparse_categorical_crossentropy')\n",
        "\n",
        "model.fit(training_images, training_labels, epochs=5)\n",
        "\n",
        "model.evaluate(test_images, test_labels)\n",
        "\n",
        "classifications = model.predict(test_images)\n",
        "\n",
        "print(classifications[0])\n",
        "print(test_labels[0])"
      ],
      "execution_count": 0,
      "outputs": []
    },
    {
      "metadata": {
        "id": "sE7PDe6LWAHb",
        "colab_type": "code",
        "colab": {}
      },
      "cell_type": "code",
      "source": [
        ""
      ],
      "execution_count": 0,
      "outputs": []
    },
    {
      "metadata": {
        "id": "Bql9fyaNUSFy",
        "colab_type": "text"
      },
      "cell_type": "markdown",
      "source": [
        "#Exercise 6: \n",
        "\n",
        "Consider the impact of training for more or less epochs. Why do you think that would be the case? \n",
        "\n",
        "Try 15 epochs -- you'll probably get a model with a much better loss than the one with 5\n",
        "Try 30 epochs -- you might see the loss value stops decreasing, and sometimes increases. This is a side effect of something called 'overfitting' which you can learn about [somewhere] and it's something you need to keep an eye out for when training neural networks. There's no point in wasting your time training if you aren't improving your loss, right! :)"
      ]
    },
    {
      "metadata": {
        "id": "uE3esj9BURQe",
        "colab_type": "code",
        "colab": {}
      },
      "cell_type": "code",
      "source": [
        "import tensorflow as tf\n",
        "print(tf.__version__)\n",
        "\n",
        "mnist = tf.keras.datasets.mnist\n",
        "\n",
        "(training_images, training_labels) ,  (test_images, test_labels) = mnist.load_data()\n",
        "\n",
        "training_images = training_images/255.0\n",
        "test_images = test_images/255.0\n",
        "\n",
        "model = tf.keras.models.Sequential([tf.keras.layers.Flatten(),\n",
        "                                    tf.keras.layers.Dense(128, activation=tf.nn.relu),\n",
        "                                    tf.keras.layers.Dense(5, activation=tf.nn.softmax)])\n",
        "\n",
        "model.compile(optimizer = 'adam',\n",
        "              loss = 'sparse_categorical_crossentropy')\n",
        "\n",
        "model.fit(training_images, training_labels, epochs=30)\n",
        "\n",
        "model.evaluate(test_images, test_labels)\n",
        "\n",
        "classifications = model.predict(test_images)\n",
        "\n",
        "print(classifications[34])\n",
        "print(test_labels[34])"
      ],
      "execution_count": 0,
      "outputs": []
    },
    {
      "metadata": {
        "id": "HS3vVkOgCDGZ",
        "colab_type": "text"
      },
      "cell_type": "markdown",
      "source": [
        "#Exercise 7: \n",
        "\n",
        "Before you trained, you normalized the data, going from values that were 0-255 to values that were 0-1. What would be the impact of removing that? Here's the complete code to give it a try. Why do you think you get different results? "
      ]
    },
    {
      "metadata": {
        "id": "JDqNAqrpCNg0",
        "colab_type": "code",
        "outputId": "f1b02310-3766-4768-cfc6-caf200479cd3",
        "colab": {
          "base_uri": "https://localhost:8080/",
          "height": 289
        }
      },
      "cell_type": "code",
      "source": [
        "import tensorflow as tf\n",
        "print(tf.__version__)\n",
        "mnist = tf.keras.datasets.mnist\n",
        "(training_images, training_labels), (test_images, test_labels) = mnist.load_data()\n",
        "training_images=training_images/255.0\n",
        "test_images=test_images/255.0\n",
        "model = tf.keras.models.Sequential([\n",
        "  tf.keras.layers.Flatten(),\n",
        "  tf.keras.layers.Dense(512, activation=tf.nn.relu),\n",
        "  tf.keras.layers.Dense(10, activation=tf.nn.softmax)\n",
        "])\n",
        "model.compile(optimizer='adam', loss='sparse_categorical_crossentropy')\n",
        "model.fit(training_images, training_labels, epochs=5)\n",
        "model.evaluate(test_images, test_labels)\n",
        "classifications = model.predict(test_images)\n",
        "print(classifications[0])\n",
        "print(test_labels[0])"
      ],
      "execution_count": 0,
      "outputs": [
        {
          "output_type": "stream",
          "text": [
            "1.13.1\n",
            "Epoch 1/5\n",
            "60000/60000 [==============================] - 13s 213us/sample - loss: 0.2010\n",
            "Epoch 2/5\n",
            "60000/60000 [==============================] - 13s 213us/sample - loss: 0.0814\n",
            "Epoch 3/5\n",
            "60000/60000 [==============================] - 13s 218us/sample - loss: 0.0513\n",
            "Epoch 4/5\n",
            "60000/60000 [==============================] - 13s 213us/sample - loss: 0.0372\n",
            "Epoch 5/5\n",
            "60000/60000 [==============================] - 13s 212us/sample - loss: 0.0278\n",
            "10000/10000 [==============================] - 1s 61us/sample - loss: 0.0756\n",
            "[1.43467549e-08 6.59179245e-09 2.78149486e-07 1.60406728e-06\n",
            " 7.39004994e-13 1.06270985e-10 2.57188023e-15 9.99935031e-01\n",
            " 3.98298505e-09 6.31630974e-05]\n",
            "7\n"
          ],
          "name": "stdout"
        }
      ]
    },
    {
      "metadata": {
        "id": "E7W2PT66ZBHQ",
        "colab_type": "text"
      },
      "cell_type": "markdown",
      "source": [
        "#Exercise 8: \n",
        "\n",
        "Earlier when you trained for extra epochs you had an issue where your loss might change. It might have taken a bit of time for you to wait for the training to do that, and you might have thought 'wouldn't it be nice if I could stop the training when I reach a desired value?' -- i.e. 95% accuracy might be enough for you, and if you reach that after 3 epochs, why sit around waiting for it to finish a lot more epochs....So how would you fix that? Like any other program...you have callbacks! Let's see them in action..."
      ]
    },
    {
      "metadata": {
        "id": "pkaEHHgqZbYv",
        "colab_type": "code",
        "colab": {}
      },
      "cell_type": "code",
      "source": [
        "import tensorflow as tf\n",
        "print(tf.__version__)\n",
        "\n",
        "class myCallback(tf.keras.callbacks.Callback):\n",
        "  def on_epoch_end(self, epoch, logs={}):\n",
        "    if(logs.get('loss')<0.4):\n",
        "      print(\"\\nReached 60% accuracy so cancelling training!\")\n",
        "      self.model.stop_training = True\n",
        "\n",
        "callbacks = myCallback()\n",
        "mnist = tf.keras.datasets.fashion_mnist\n",
        "(training_images, training_labels), (test_images, test_labels) = mnist.load_data()\n",
        "training_images=training_images/255.0\n",
        "test_images=test_images/255.0\n",
        "model = tf.keras.models.Sequential([\n",
        "  tf.keras.layers.Flatten(),\n",
        "  tf.keras.layers.Dense(512, activation=tf.nn.relu),\n",
        "  tf.keras.layers.Dense(10, activation=tf.nn.softmax)\n",
        "])\n",
        "model.compile(optimizer='adam', loss='sparse_categorical_crossentropy')\n",
        "model.fit(training_images, training_labels, epochs=5, callbacks=[callbacks])\n",
        "\n",
        "\n"
      ],
      "execution_count": 0,
      "outputs": []
    }
  ]
}